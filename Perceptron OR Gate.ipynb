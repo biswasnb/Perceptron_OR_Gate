{
 "cells": [
  {
   "cell_type": "markdown",
   "id": "cb35cc88",
   "metadata": {},
   "source": [
    "2 Input OR Gate"
   ]
  },
  {
   "cell_type": "code",
   "execution_count": 2,
   "id": "2650c03c",
   "metadata": {},
   "outputs": [
    {
     "name": "stdout",
     "output_type": "stream",
     "text": [
      "OR Gate:\n",
      "Input: [0, 0], Output: 0\n",
      "Input: [0, 1], Output: 1\n",
      "Input: [1, 0], Output: 1\n",
      "Input: [1, 1], Output: 1\n"
     ]
    }
   ],
   "source": [
    "# Step activation function\n",
    "def step(x):\n",
    "    return 1 if x >= 0 else 0\n",
    "\n",
    "def or_gate(inputs):\n",
    "    weight = [1, 1]\n",
    "    bias = -0.5\n",
    "    weighted_sum = sum(inputs[i] * weight[i] for i in range(len(inputs))) + bias\n",
    "    return step(weighted_sum)\n",
    "\n",
    "inputs_2 = [[0, 0], [0, 1], [1, 0], [1, 1]]\n",
    "\n",
    "print(\"OR Gate:\")\n",
    "for i in inputs_2:\n",
    "    print(f\"Input: {i}, Output: {or_gate(i)}\")\n"
   ]
  },
  {
   "cell_type": "markdown",
   "id": "4a9e04f6",
   "metadata": {},
   "source": [
    "3 Input OR Gate"
   ]
  },
  {
   "cell_type": "code",
   "execution_count": 3,
   "id": "e7d745a1",
   "metadata": {},
   "outputs": [
    {
     "name": "stdout",
     "output_type": "stream",
     "text": [
      "3-Input OR Gate:\n",
      "Input: [0, 0, 0], Output: 0\n",
      "Input: [0, 0, 1], Output: 1\n",
      "Input: [0, 1, 0], Output: 1\n",
      "Input: [0, 1, 1], Output: 1\n",
      "Input: [1, 0, 0], Output: 1\n",
      "Input: [1, 0, 1], Output: 1\n",
      "Input: [1, 1, 0], Output: 1\n",
      "Input: [1, 1, 1], Output: 1\n"
     ]
    }
   ],
   "source": [
    "# Step activation function\n",
    "def step(x):\n",
    "    return 1 if x >= 0 else 0\n",
    "\n",
    "def or_gate_3(inputs):\n",
    "    weight = [1, 1, 1]\n",
    "    bias = -0.5\n",
    "    weighted_sum = sum(inputs[i] * weight[i] for i in range(len(inputs))) + bias\n",
    "    return step(weighted_sum)\n",
    "\n",
    "inputs_3 = [\n",
    "    [0, 0, 0], [0, 0, 1], [0, 1, 0], [0, 1, 1],\n",
    "    [1, 0, 0], [1, 0, 1], [1, 1, 0], [1, 1, 1]\n",
    "]\n",
    "\n",
    "print(\"3-Input OR Gate:\")\n",
    "for i in inputs_3:\n",
    "    print(f\"Input: {i}, Output: {or_gate_3(i)}\")\n"
   ]
  },
  {
   "cell_type": "code",
   "execution_count": null,
   "id": "7a12d09b",
   "metadata": {},
   "outputs": [],
   "source": []
  }
 ],
 "metadata": {
  "kernelspec": {
   "display_name": "Python 3 (ipykernel)",
   "language": "python",
   "name": "python3"
  },
  "language_info": {
   "codemirror_mode": {
    "name": "ipython",
    "version": 3
   },
   "file_extension": ".py",
   "mimetype": "text/x-python",
   "name": "python",
   "nbconvert_exporter": "python",
   "pygments_lexer": "ipython3",
   "version": "3.9.7"
  }
 },
 "nbformat": 4,
 "nbformat_minor": 5
}
